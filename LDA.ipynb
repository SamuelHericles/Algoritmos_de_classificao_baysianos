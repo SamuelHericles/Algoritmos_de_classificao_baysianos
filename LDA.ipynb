{
 "cells": [
  {
   "cell_type": "code",
   "execution_count": 4,
   "metadata": {},
   "outputs": [],
   "source": [
    "import pandas as pd\n",
    "import numpy as np\n",
    "import funcoes_importantes as fi\n",
    "fp = fi.funcoes_main()"
   ]
  },
  {
   "cell_type": "markdown",
   "metadata": {},
   "source": [
    "# III)LDA"
   ]
  },
  {
   "cell_type": "code",
   "execution_count": 9,
   "metadata": {},
   "outputs": [],
   "source": [
    "# Considere que a prob a priori eh igual para todos, então não se usa aqui\n",
    "# Considere que a matriz de covariancia é igual par atodas as classes, então irei calcular a media mcov das n classes\n",
    "# Antes de tudos normalizar z-score os dados com as info do dados de treino(mean e std)\n",
    "# iSSO TUDO PARA 6 CLASSES\n",
    "\n",
    "def lda(X,y):\n",
    "    # 1- vetor médio por classe[1x34]\n",
    "    vt_medio_1 = fp.vetor_medio(X.query('c35==1'))\n",
    "    vt_medio_2 = fp.vetor_medio(X.query('c35==2'))\n",
    "    vt_medio_3 = fp.vetor_medio(X.query('c35==3'))\n",
    "    vt_medio_4 = fp.vetor_medio(X.query('c35==4'))\n",
    "    vt_medio_5 = fp.vetor_medio(X.query('c35==5'))\n",
    "    vt_medio_6 = fp.vetor_medio(X.query('c35==6'))\n",
    "\n",
    "\n",
    "    # 2- mcov_medio ou agregaddo é [34x34] somar todas as mcov de n classes e fazer a média mcov/n classes [34x34]\n",
    "    mcov_1 = fp.matriz_covariancia(X.query('c35==1'))\n",
    "    mcov_2 = fp.matriz_covariancia(X.query('c35==2'))\n",
    "    mcov_3 = fp.matriz_covariancia(X.query('c35==3'))\n",
    "    mcov_4 = fp.matriz_covariancia(X.query('c35==4'))\n",
    "    mcov_5 = fp.matriz_covariancia(X.query('c35==5'))\n",
    "    mcov_6 = fp.matriz_covariancia(X.query('c35==6'))\n",
    "    mcov_medio = mcov_1+mcov_2+mcov_3+mcov_4+mcov_5+mcov_6\n",
    "    mcov_medio = mcov_medio/6\n",
    "\n",
    "    # 3- Fazer a correção lamdba A = A + xI na matriz de covariancia\n",
    "    mcov_medio_lambda = mcov_medio + np.identity(mcov_medio.shape[0], dtype=float)*0.01\n",
    "\n",
    "    # 5- Calcular a inversa da matriz de covairância regulada lambda\n",
    "    mcov_medio_lambda_inv_d = pd.DataFrame(np.linalg.inv(np.matrix(mcov_medio_lambda.values, dtype='float')))\n",
    "    \n",
    "    # 4- Teste, pegar agora um elementro da base de teste e aplicar\n",
    "    # min: (elem_teste-vetor_medio_classe_i).T*mcov_classe_i_inv_media(agredada)*(elem_teste-vetor_md_classe_i)\n",
    "    aux = []\n",
    "    for i in y.index.values:\n",
    "        valores = []\n",
    "        valores.append(fp.teste_elem_lda(y.iloc[i,:-1],vt_medio_1,mcov_medio_lambda_inv_d))    \n",
    "        valores.append(fp.teste_elem_lda(y.iloc[i,:-1],vt_medio_2,mcov_medio_lambda_inv_d))\n",
    "        valores.append(fp.teste_elem_lda(y.iloc[i,:-1],vt_medio_3,mcov_medio_lambda_inv_d))    \n",
    "        valores.append(fp.teste_elem_lda(y.iloc[i,:-1],vt_medio_4,mcov_medio_lambda_inv_d))\n",
    "        valores.append(fp.teste_elem_lda(y.iloc[i,:-1],vt_medio_5,mcov_medio_lambda_inv_d))\n",
    "        valores.append(fp.teste_elem_lda(y.iloc[i,:-1],vt_medio_6,mcov_medio_lambda_inv_d))\n",
    "        aux.append(valores.index(min(valores))+1)\n",
    "    print('Acrurácia de ',fp.get_acc(aux,y['c35'])*100,'%')\n",
    "    return fp.get_acc(aux,y['c35'])"
   ]
  },
  {
   "cell_type": "code",
   "execution_count": null,
   "metadata": {},
   "outputs": [
    {
     "name": "stdout",
     "output_type": "stream",
     "text": [
      "Acrurácia de  97.22 %\n",
      "Acrurácia de  95.83 %\n",
      "Acrurácia de  97.22 %\n",
      "Acrurácia de  97.22 %\n",
      "Acrurácia de  98.61 %\n",
      "Acrurácia de  98.61 %\n",
      "Acrurácia de  98.61 %\n",
      "Acrurácia de  90.28 %\n",
      "Acrurácia de  97.22 %\n",
      "Acrurácia de  95.83 %\n",
      "Acrurácia de  97.22 %\n",
      "Acrurácia de  97.22 %\n",
      "Acrurácia de  100.0 %\n",
      "Acrurácia de  95.83 %\n",
      "Acrurácia de  98.61 %\n",
      "Acrurácia de  93.06 %\n",
      "Acrurácia de  98.61 %\n",
      "Acrurácia de  98.61 %\n",
      "Acrurácia de  95.83 %\n",
      "Acrurácia de  95.83 %\n",
      "Acrurácia de  98.61 %\n",
      "Acrurácia de  97.22 %\n",
      "Acrurácia de  98.61 %\n"
     ]
    }
   ],
   "source": [
    "lda_accs = []\n",
    "for _ in range(50):\n",
    "    X,y = fp.kfold_shuffle()\n",
    "    lda_accs.append(lda(X,y))\n",
    "print('Acurácia média de ',round(np.mean(lda_accs),4)*100,'%')"
   ]
  },
  {
   "cell_type": "code",
   "execution_count": null,
   "metadata": {},
   "outputs": [],
   "source": []
  }
 ],
 "metadata": {
  "kernelspec": {
   "display_name": "Python 3.8.3 32-bit",
   "language": "python",
   "name": "python38332bitaad349581efd4fb382cf55e46195d2e4"
  },
  "language_info": {
   "codemirror_mode": {
    "name": "ipython",
    "version": 3
   },
   "file_extension": ".py",
   "mimetype": "text/x-python",
   "name": "python",
   "nbconvert_exporter": "python",
   "pygments_lexer": "ipython3",
   "version": "3.8.3"
  }
 },
 "nbformat": 4,
 "nbformat_minor": 4
}
