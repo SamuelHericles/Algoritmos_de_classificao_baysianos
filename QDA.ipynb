{
 "cells": [
  {
   "cell_type": "markdown",
   "metadata": {},
   "source": [
    "# Imports necessários"
   ]
  },
  {
   "cell_type": "code",
   "execution_count": 1,
   "metadata": {},
   "outputs": [],
   "source": [
    "import pandas as pd\n",
    "import numpy as np\n",
    "import funcoes_importantes as fi"
   ]
  },
  {
   "cell_type": "code",
   "execution_count": 2,
   "metadata": {},
   "outputs": [],
   "source": [
    "fp = fi.funcoes_main()"
   ]
  },
  {
   "cell_type": "code",
   "execution_count": 13,
   "metadata": {},
   "outputs": [
    {
     "data": {
      "text/plain": [
       "array([array([[0.36864032319151513, 0.10036611538947127, 0.09632622143668756,\n",
       "        ..., -0.010857214998107599, -0.021461936624163833,\n",
       "        0.8756470142658462],\n",
       "       [0.10036611538947127, 0.37646761772503495, 0.14833985607877784,\n",
       "        ..., 0.002777427092538783, -0.030046711273828672,\n",
       "        -0.36510541598286206],\n",
       "       [0.09632622143668756, 0.14833985607877784, 0.3289988637798256,\n",
       "        ..., 0.04380760005049938, -0.036737785633126956,\n",
       "        0.0022724403484522208],\n",
       "       ...,\n",
       "       [-0.010857214998107599, 0.002777427092538783, 0.04380760005049938,\n",
       "        ..., 0.4817573538694586, -0.029920464587804747,\n",
       "        0.9915414720363678],\n",
       "       [-0.021461936624163833, -0.030046711273828672,\n",
       "        -0.036737785633126956, ..., -0.029920464587804747,\n",
       "        0.055043555106678715, -0.9176871607120769],\n",
       "       [0.8756470142658462, -0.36510541598286206, 0.0022724403484522208,\n",
       "        ..., 0.9915414720363678, -0.9176871607120769, 250.89332155031175]],\n",
       "      dtype=object)], dtype=object)"
      ]
     },
     "execution_count": 13,
     "metadata": {},
     "output_type": "execute_result"
    }
   ],
   "source": [
    "a = pd.DataFrame([mcov_1.values,mcov_2.values,mcov_3.values,mcov_4.values,mcov_5.values,mcov_6.values])\n",
    "a.iloc[0].values"
   ]
  },
  {
   "cell_type": "code",
   "execution_count": 16,
   "metadata": {},
   "outputs": [
    {
     "data": {
      "text/plain": [
       "array([[array([[0.37864032319151514, 0.11036611538947126, 0.10632622143668756,\n",
       "        ..., -0.0008572149981075985, -0.011461936624163832,\n",
       "        0.8856470142658462],\n",
       "       [0.11036611538947126, 0.38646761772503496, 0.15833985607877785,\n",
       "        ..., 0.012777427092538783, -0.02004671127382867,\n",
       "        -0.35510541598286205],\n",
       "       [0.10632622143668756, 0.15833985607877785, 0.33899886377982563,\n",
       "        ..., 0.05380760005049938, -0.026737785633126954,\n",
       "        0.012272440348452221],\n",
       "       ...,\n",
       "       [-0.0008572149981075985, 0.012777427092538783,\n",
       "        0.05380760005049938, ..., 0.4917573538694586,\n",
       "        -0.019920464587804748, 1.0015414720363678],\n",
       "       [-0.011461936624163832, -0.02004671127382867,\n",
       "        -0.026737785633126954, ..., -0.019920464587804748,\n",
       "        0.06504355510667871, -0.9076871607120769],\n",
       "       [0.8856470142658462, -0.35510541598286205, 0.012272440348452221,\n",
       "        ..., 1.0015414720363678, -0.9076871607120769, 250.90332155031174]],\n",
       "      dtype=object)]], dtype=object)"
      ]
     },
     "execution_count": 16,
     "metadata": {},
     "output_type": "execute_result"
    }
   ],
   "source": [
    "mcov_1_lambda = fp.correcao_lambda(a.iloc[0].values)\n",
    "mcov_1_lambda"
   ]
  },
  {
   "cell_type": "code",
   "execution_count": 3,
   "metadata": {},
   "outputs": [],
   "source": [
    "# Antes de tudos normalizar z-score os dados com as info do dados de treino(mean e std)\n",
    "# iSSO TUDO PARA 6 CLASSES\n",
    "\n",
    "def qda(X,y):\n",
    "    # 1- calcula a probilidade a priori[1x1]\n",
    "    probs_p = fp.prob_a_priori(X)\n",
    "\n",
    "    # 2- vetor médio por classe[1x34]\n",
    "    vt_medio = fp.vetor_medio_p_classe(X)\n",
    "\n",
    "    \n",
    "    # 3- matriz covariancia por classe[34x34]\n",
    "    mcov_1 = fp.matriz_covariancia(X.query('c35==1'))\n",
    "    mcov_2 = fp.matriz_covariancia(X.query('c35==2'))\n",
    "    mcov_3 = fp.matriz_covariancia(X.query('c35==3'))\n",
    "    mcov_4 = fp.matriz_covariancia(X.query('c35==4'))\n",
    "    mcov_5 = fp.matriz_covariancia(X.query('c35==5'))\n",
    "    mcov_6 = fp.matriz_covariancia(X.query('c35==6'))\n",
    "    a = pd.DataFrame([mcov_1.values,mcov_2.values,mcov_3.values,mcov_4.values,mcov_5.values,mcov_6.values])\n",
    "    \n",
    "    # 4- Fazer a correção lamdba A = A + xI na matriz de covariancia\n",
    "    mcov_1_lambda = fp.correcao_lambda(mcov_1)\n",
    "    mcov_2_lambda = fp.correcao_lambda(mcov_2)\n",
    "    mcov_3_lambda = fp.correcao_lambda(mcov_3)\n",
    "    mcov_4_lambda = fp.correcao_lambda(mcov_4)\n",
    "    mcov_5_lambda = fp.correcao_lambda(mcov_5)\n",
    "    mcov_6_lambda = fp.correcao_lambda(mcov_6)\n",
    "\n",
    "    # 5- Calcular a inversa da matriz de covairância regulada lambda\n",
    "    mcov_1_lambda_inv = fp.matriz_inversa(mcov_1_lambda)\n",
    "    mcov_2_lambda_inv = fp.matriz_inversa(mcov_2_lambda)\n",
    "    mcov_3_lambda_inv = fp.matriz_inversa(mcov_3_lambda)\n",
    "    mcov_4_lambda_inv = fp.matriz_inversa(mcov_4_lambda)\n",
    "    mcov_5_lambda_inv = fp.matriz_inversa(mcov_5_lambda)\n",
    "    mcov_6_lambda_inv = fp.matriz_inversa(mcov_6_lambda)\n",
    "\n",
    "    # 6- Calcular o determinante de cada matriz de covariância regulada\n",
    "    det_1 = fp.determinante_matriz_covariancia(mcov_1_lambda)\n",
    "    det_2 = fp.determinante_matriz_covariancia(mcov_2_lambda)\n",
    "    det_3 = fp.determinante_matriz_covariancia(mcov_3_lambda)\n",
    "    det_4 = fp.determinante_matriz_covariancia(mcov_4_lambda)\n",
    "    det_5 = fp.determinante_matriz_covariancia(mcov_5_lambda)\n",
    "    det_6 = fp.determinante_matriz_covariancia(mcov_6_lambda)\n",
    "\n",
    "\n",
    "    # Teste, pegar agora um elementro da base de teste e aplicar\n",
    "    # min: ln|det(mcov_classe_i)| + \n",
    "    #       (elem_teste-vetor_medio_classe_i).T*mcov_classe_i_inv*(elem_teste-vetor_md_classe_i)\n",
    "    #       - 2*ln(P_priori(classe_i)) \n",
    "\n",
    "    # elem_teste é X da questão, literalmente\n",
    "    # o que o min retorna?\n",
    "    # min retorna um valor 1,2,3,4,5,6 sendo este a classe\n",
    "\n",
    "    aux = []\n",
    "    for i in y.index.values:\n",
    "        valores = []\n",
    "        valores.append(fp.teste_elem(y.iloc[i,:-1],vt_medio.iloc[0],mcov_1_lambda_inv,det_1,probs_p[0]))    \n",
    "        valores.append(fp.teste_elem(y.iloc[i,:-1],vt_medio.iloc[1],mcov_2_lambda_inv,det_2,probs_p[1]))\n",
    "        valores.append(fp.teste_elem(y.iloc[i,:-1],vt_medio.iloc[2],mcov_3_lambda_inv,det_3,probs_p[2]))    \n",
    "        valores.append(fp.teste_elem(y.iloc[i,:-1],vt_medio.iloc[3],mcov_4_lambda_inv,det_4,probs_p[3]))\n",
    "        valores.append(fp.teste_elem(y.iloc[i,:-1],vt_medio.iloc[4],mcov_5_lambda_inv,det_5,probs_p[4]))\n",
    "        valores.append(fp.teste_elem(y.iloc[i,:-1],vt_medio.iloc[5],mcov_6_lambda_inv,det_6,probs_p[5]))\n",
    "        aux.append(valores.index(min(valores))+1)\n",
    "    print('Acrurácia de ',fp.get_acc(aux,y['c35'])*100,'%')\n",
    "    return fp.get_acc(aux,y['c35'])"
   ]
  },
  {
   "cell_type": "code",
   "execution_count": 4,
   "metadata": {},
   "outputs": [
    {
     "name": "stdout",
     "output_type": "stream",
     "text": [
      "Acrurácia de  97.22 %\n"
     ]
    },
    {
     "data": {
      "text/plain": [
       "0.9722"
      ]
     },
     "execution_count": 4,
     "metadata": {},
     "output_type": "execute_result"
    }
   ],
   "source": [
    "X,y = fp.kfold_shuffle(5)\n",
    "qda(X,y)"
   ]
  },
  {
   "cell_type": "code",
   "execution_count": 5,
   "metadata": {},
   "outputs": [],
   "source": [
    "# qda_accs = []\n",
    "# for _ in range(50):\n",
    "#     X,y = fp.kfold_shuffle(5)\n",
    "#     qda_accs.append(qda(X,y))\n",
    "# print('Acurácia média de ',np.mean(qda_accs)*100,'%')"
   ]
  },
  {
   "cell_type": "code",
   "execution_count": null,
   "metadata": {},
   "outputs": [],
   "source": []
  },
  {
   "cell_type": "code",
   "execution_count": null,
   "metadata": {},
   "outputs": [],
   "source": []
  }
 ],
 "metadata": {
  "kernelspec": {
   "display_name": "Python 3.8.3 32-bit",
   "language": "python",
   "name": "python38332bitaad349581efd4fb382cf55e46195d2e4"
  },
  "language_info": {
   "codemirror_mode": {
    "name": "ipython",
    "version": 3
   },
   "file_extension": ".py",
   "mimetype": "text/x-python",
   "name": "python",
   "nbconvert_exporter": "python",
   "pygments_lexer": "ipython3",
   "version": "3.8.3"
  }
 },
 "nbformat": 4,
 "nbformat_minor": 4
}
