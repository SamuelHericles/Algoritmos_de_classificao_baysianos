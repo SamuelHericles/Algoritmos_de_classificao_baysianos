{
 "cells": [
  {
   "cell_type": "code",
   "execution_count": 1,
   "metadata": {},
   "outputs": [],
   "source": [
    "import pandas as pd\n",
    "import numpy as np\n",
    "import funcoes_importantes as fi\n",
    "fp = fi.funcoes_main()"
   ]
  },
  {
   "cell_type": "code",
   "execution_count": 8,
   "metadata": {},
   "outputs": [],
   "source": [
    "# Antes de tudos normalizar z-score os dados com as info do dados de treino(mean e std)\n",
    "# iSSO TUDO PARA 6 CLASSES\n",
    "# Antes de tudo diagonalizar a mcov \n",
    "\n",
    "def nayves_bayes(X,y):\n",
    "    # 1- calcula a probilidade a priori[1x1]\n",
    "    probs_p = fp.prob_a_priori(X)\n",
    "\n",
    "    # 2- vetor médio por classe[1x34]\n",
    "    vt_medio_1 = fp.vetor_medio(X.query('c35==1'))\n",
    "    vt_medio_2 = fp.vetor_medio(X.query('c35==2'))\n",
    "    vt_medio_3 = fp.vetor_medio(X.query('c35==3'))\n",
    "    vt_medio_4 = fp.vetor_medio(X.query('c35==4'))\n",
    "    vt_medio_5 = fp.vetor_medio(X.query('c35==5'))\n",
    "    vt_medio_6 = fp.vetor_medio(X.query('c35==6'))\n",
    "    \n",
    "    mcov_1 = fp.matriz_covariancia(X.query('c35==1'))\n",
    "    mcov_2 = fp.matriz_covariancia(X.query('c35==2'))\n",
    "    mcov_3 = fp.matriz_covariancia(X.query('c35==3'))\n",
    "    mcov_4 = fp.matriz_covariancia(X.query('c35==4'))\n",
    "    mcov_5 = fp.matriz_covariancia(X.query('c35==5'))\n",
    "    mcov_6 = fp.matriz_covariancia(X.query('c35==6'))\n",
    "\n",
    "    # 3- matriz covariancia por classe[34x34] sabendo que são descorrelacionados\n",
    "    mcov_1_descorrelacionada = fp.limpar_covariancia(mcov_1)\n",
    "    mcov_2_descorrelacionada = fp.limpar_covariancia(mcov_2)\n",
    "    mcov_3_descorrelacionada = fp.limpar_covariancia(mcov_3)\n",
    "    mcov_4_descorrelacionada = fp.limpar_covariancia(mcov_4)\n",
    "    mcov_5_descorrelacionada = fp.limpar_covariancia(mcov_5)\n",
    "    mcov_6_descorrelacionada = fp.limpar_covariancia(mcov_6)\n",
    "\n",
    "    # 4- Fazer a correção lamdba A = A + xI na matriz de covariancia\n",
    "    mcov_1_lambda_d = mcov_1_descorrelacionada + np.identity(mcov_1_descorrelacionada.shape[0], dtype=float)*0.01\n",
    "    mcov_2_lambda_d = mcov_1_descorrelacionada + np.identity(mcov_1_descorrelacionada.shape[0], dtype=float)*0.01\n",
    "    mcov_3_lambda_d = mcov_1_descorrelacionada + np.identity(mcov_1_descorrelacionada.shape[0], dtype=float)*0.01\n",
    "    mcov_4_lambda_d = mcov_1_descorrelacionada + np.identity(mcov_1_descorrelacionada.shape[0], dtype=float)*0.01\n",
    "    mcov_5_lambda_d = mcov_1_descorrelacionada + np.identity(mcov_1_descorrelacionada.shape[0], dtype=float)*0.01\n",
    "    mcov_6_lambda_d = mcov_1_descorrelacionada + np.identity(mcov_1_descorrelacionada.shape[0], dtype=float)*0.01\n",
    "\n",
    "    # 5- Calcular a inversa da matriz de covairância regulada lambda\n",
    "    mcov_1_lambda_inv_d = pd.DataFrame(np.linalg.inv(np.matrix(mcov_1_lambda_d.values, dtype='float')))\n",
    "    mcov_2_lambda_inv_d = pd.DataFrame(np.linalg.inv(np.matrix(mcov_2_lambda_d.values, dtype='float')))\n",
    "    mcov_3_lambda_inv_d = pd.DataFrame(np.linalg.inv(np.matrix(mcov_3_lambda_d.values, dtype='float')))\n",
    "    mcov_4_lambda_inv_d = pd.DataFrame(np.linalg.inv(np.matrix(mcov_4_lambda_d.values, dtype='float')))\n",
    "    mcov_5_lambda_inv_d = pd.DataFrame(np.linalg.inv(np.matrix(mcov_5_lambda_d.values, dtype='float')))\n",
    "    mcov_6_lambda_inv_d = pd.DataFrame(np.linalg.inv(np.matrix(mcov_6_lambda_d.values, dtype='float')))\n",
    "    \n",
    "    # 6- Calcular o determinante de cada matriz de covariância regulada\n",
    "    det_1 = np.linalg.det(np.matrix(mcov_1_lambda_inv_d.values, dtype='float'))\n",
    "    det_2 = np.linalg.det(np.matrix(mcov_1_lambda_inv_d.values, dtype='float'))\n",
    "    det_3 = np.linalg.det(np.matrix(mcov_1_lambda_inv_d.values, dtype='float'))\n",
    "    det_4 = np.linalg.det(np.matrix(mcov_1_lambda_inv_d.values, dtype='float'))\n",
    "    det_5 = np.linalg.det(np.matrix(mcov_1_lambda_inv_d.values, dtype='float'))\n",
    "    det_6 = np.linalg.det(np.matrix(mcov_1_lambda_inv_d.values, dtype='float'))\n",
    "    \n",
    "    \n",
    "    # 5- Teste, pegar agora um elementro da base de teste e aplicar\n",
    "    # min: ln|det(mcov_classe_i)| + \n",
    "    #       (elem_teste-vetor_medio_classe_i).T*mcov_classe_i_inv*(elem_teste-vetor_md_classe_i)\n",
    "    #       - 2*ln(P_priori(classe_i)) \n",
    "    aux = []\n",
    "    for i in y.index.values:\n",
    "        valores = []\n",
    "        valores.append(fp.teste_elem(y.iloc[i,:-1],vt_medio_1,mcov_1_lambda_inv_d,det_1,probs_p[0]))    \n",
    "        valores.append(fp.teste_elem(y.iloc[i,:-1],vt_medio_2,mcov_2_lambda_inv_d,det_2,probs_p[1]))\n",
    "        valores.append(fp.teste_elem(y.iloc[i,:-1],vt_medio_3,mcov_3_lambda_inv_d,det_3,probs_p[2]))    \n",
    "        valores.append(fp.teste_elem(y.iloc[i,:-1],vt_medio_4,mcov_4_lambda_inv_d,det_4,probs_p[3]))\n",
    "        valores.append(fp.teste_elem(y.iloc[i,:-1],vt_medio_5,mcov_5_lambda_inv_d,det_5,probs_p[4]))\n",
    "        valores.append(fp.teste_elem(y.iloc[i,:-1],vt_medio_6,mcov_6_lambda_inv_d,det_6,probs_p[5]))\n",
    "        aux.append(valores.index(min(valores))+1)\n",
    "    print('Acrurácia de ',fp.get_acc(aux,y['c35'])*100,'%')\n",
    "    return fp.get_acc(aux,y['c35'])"
   ]
  },
  {
   "cell_type": "code",
   "execution_count": 9,
   "metadata": {},
   "outputs": [
    {
     "ename": "ValueError",
     "evalue": "Dot product shape mismatch, (34, 34) vs (35, 34)",
     "output_type": "error",
     "traceback": [
      "\u001b[1;31m---------------------------------------------------------------------------\u001b[0m",
      "\u001b[1;31mValueError\u001b[0m                                Traceback (most recent call last)",
      "\u001b[1;32m<ipython-input-9-9ac8b6fc03f8>\u001b[0m in \u001b[0;36m<module>\u001b[1;34m\u001b[0m\n\u001b[0;32m      1\u001b[0m \u001b[0mX\u001b[0m\u001b[1;33m,\u001b[0m\u001b[0my\u001b[0m \u001b[1;33m=\u001b[0m \u001b[0mfp\u001b[0m\u001b[1;33m.\u001b[0m\u001b[0mkfold_shuffle\u001b[0m\u001b[1;33m(\u001b[0m\u001b[1;33m)\u001b[0m\u001b[1;33m\u001b[0m\u001b[1;33m\u001b[0m\u001b[0m\n\u001b[1;32m----> 2\u001b[1;33m \u001b[0mnayves_bayes\u001b[0m\u001b[1;33m(\u001b[0m\u001b[0mX\u001b[0m\u001b[1;33m,\u001b[0m\u001b[0my\u001b[0m\u001b[1;33m)\u001b[0m\u001b[1;33m\u001b[0m\u001b[1;33m\u001b[0m\u001b[0m\n\u001b[0m",
      "\u001b[1;32m<ipython-input-8-7aeb2c9d0c19>\u001b[0m in \u001b[0;36mnayves_bayes\u001b[1;34m(X, y)\u001b[0m\n\u001b[0;32m     62\u001b[0m     \u001b[1;32mfor\u001b[0m \u001b[0mi\u001b[0m \u001b[1;32min\u001b[0m \u001b[0my\u001b[0m\u001b[1;33m.\u001b[0m\u001b[0mindex\u001b[0m\u001b[1;33m.\u001b[0m\u001b[0mvalues\u001b[0m\u001b[1;33m:\u001b[0m\u001b[1;33m\u001b[0m\u001b[1;33m\u001b[0m\u001b[0m\n\u001b[0;32m     63\u001b[0m         \u001b[0mvalores\u001b[0m \u001b[1;33m=\u001b[0m \u001b[1;33m[\u001b[0m\u001b[1;33m]\u001b[0m\u001b[1;33m\u001b[0m\u001b[1;33m\u001b[0m\u001b[0m\n\u001b[1;32m---> 64\u001b[1;33m         \u001b[0mvalores\u001b[0m\u001b[1;33m.\u001b[0m\u001b[0mappend\u001b[0m\u001b[1;33m(\u001b[0m\u001b[0mfp\u001b[0m\u001b[1;33m.\u001b[0m\u001b[0mteste_elem\u001b[0m\u001b[1;33m(\u001b[0m\u001b[0my\u001b[0m\u001b[1;33m.\u001b[0m\u001b[0miloc\u001b[0m\u001b[1;33m[\u001b[0m\u001b[0mi\u001b[0m\u001b[1;33m,\u001b[0m\u001b[1;33m:\u001b[0m\u001b[1;33m-\u001b[0m\u001b[1;36m1\u001b[0m\u001b[1;33m]\u001b[0m\u001b[1;33m,\u001b[0m\u001b[0mvt_medio_1\u001b[0m\u001b[1;33m,\u001b[0m\u001b[0mmcov_1_lambda_inv_d\u001b[0m\u001b[1;33m,\u001b[0m\u001b[0mdet_1\u001b[0m\u001b[1;33m,\u001b[0m\u001b[0mprobs_p\u001b[0m\u001b[1;33m[\u001b[0m\u001b[1;36m0\u001b[0m\u001b[1;33m]\u001b[0m\u001b[1;33m)\u001b[0m\u001b[1;33m)\u001b[0m\u001b[1;33m\u001b[0m\u001b[1;33m\u001b[0m\u001b[0m\n\u001b[0m\u001b[0;32m     65\u001b[0m         \u001b[0mvalores\u001b[0m\u001b[1;33m.\u001b[0m\u001b[0mappend\u001b[0m\u001b[1;33m(\u001b[0m\u001b[0mfp\u001b[0m\u001b[1;33m.\u001b[0m\u001b[0mteste_elem\u001b[0m\u001b[1;33m(\u001b[0m\u001b[0my\u001b[0m\u001b[1;33m.\u001b[0m\u001b[0miloc\u001b[0m\u001b[1;33m[\u001b[0m\u001b[0mi\u001b[0m\u001b[1;33m,\u001b[0m\u001b[1;33m:\u001b[0m\u001b[1;33m-\u001b[0m\u001b[1;36m1\u001b[0m\u001b[1;33m]\u001b[0m\u001b[1;33m,\u001b[0m\u001b[0mvt_medio_2\u001b[0m\u001b[1;33m,\u001b[0m\u001b[0mmcov_2_lambda_inv_d\u001b[0m\u001b[1;33m,\u001b[0m\u001b[0mdet_2\u001b[0m\u001b[1;33m,\u001b[0m\u001b[0mprobs_p\u001b[0m\u001b[1;33m[\u001b[0m\u001b[1;36m1\u001b[0m\u001b[1;33m]\u001b[0m\u001b[1;33m)\u001b[0m\u001b[1;33m)\u001b[0m\u001b[1;33m\u001b[0m\u001b[1;33m\u001b[0m\u001b[0m\n\u001b[0;32m     66\u001b[0m         \u001b[0mvalores\u001b[0m\u001b[1;33m.\u001b[0m\u001b[0mappend\u001b[0m\u001b[1;33m(\u001b[0m\u001b[0mfp\u001b[0m\u001b[1;33m.\u001b[0m\u001b[0mteste_elem\u001b[0m\u001b[1;33m(\u001b[0m\u001b[0my\u001b[0m\u001b[1;33m.\u001b[0m\u001b[0miloc\u001b[0m\u001b[1;33m[\u001b[0m\u001b[0mi\u001b[0m\u001b[1;33m,\u001b[0m\u001b[1;33m:\u001b[0m\u001b[1;33m-\u001b[0m\u001b[1;36m1\u001b[0m\u001b[1;33m]\u001b[0m\u001b[1;33m,\u001b[0m\u001b[0mvt_medio_3\u001b[0m\u001b[1;33m,\u001b[0m\u001b[0mmcov_3_lambda_inv_d\u001b[0m\u001b[1;33m,\u001b[0m\u001b[0mdet_3\u001b[0m\u001b[1;33m,\u001b[0m\u001b[0mprobs_p\u001b[0m\u001b[1;33m[\u001b[0m\u001b[1;36m2\u001b[0m\u001b[1;33m]\u001b[0m\u001b[1;33m)\u001b[0m\u001b[1;33m)\u001b[0m\u001b[1;33m\u001b[0m\u001b[1;33m\u001b[0m\u001b[0m\n",
      "\u001b[1;32m~\\Desktop\\Trabalho_3_RP\\03.Questao_2_2\\funcoes_importantes.py\u001b[0m in \u001b[0;36mteste_elem\u001b[1;34m(self, X, X_medio, mcov_inv, determinante, probabilidade)\u001b[0m\n\u001b[0;32m     70\u001b[0m         \u001b[0mm_coluna\u001b[0m \u001b[1;33m=\u001b[0m \u001b[1;33m(\u001b[0m\u001b[0mX\u001b[0m\u001b[1;33m-\u001b[0m\u001b[0mpd\u001b[0m\u001b[1;33m.\u001b[0m\u001b[0mDataFrame\u001b[0m\u001b[1;33m(\u001b[0m\u001b[0mX_medio\u001b[0m\u001b[1;33m)\u001b[0m\u001b[1;33m.\u001b[0m\u001b[0mT\u001b[0m\u001b[1;33m)\u001b[0m\u001b[1;33m.\u001b[0m\u001b[0mT\u001b[0m\u001b[1;33m.\u001b[0m\u001b[0mvalues\u001b[0m\u001b[1;33m\u001b[0m\u001b[1;33m\u001b[0m\u001b[0m\n\u001b[0;32m     71\u001b[0m         \u001b[0mlog_prob\u001b[0m \u001b[1;33m=\u001b[0m \u001b[0mnp\u001b[0m\u001b[1;33m.\u001b[0m\u001b[0mlog\u001b[0m\u001b[1;33m(\u001b[0m\u001b[0mprobabilidade\u001b[0m\u001b[1;33m)\u001b[0m\u001b[1;33m\u001b[0m\u001b[1;33m\u001b[0m\u001b[0m\n\u001b[1;32m---> 72\u001b[1;33m         \u001b[0mresultado\u001b[0m \u001b[1;33m=\u001b[0m \u001b[0mdet_log\u001b[0m \u001b[1;33m+\u001b[0m \u001b[1;33m(\u001b[0m\u001b[0mm_linha\u001b[0m \u001b[1;33m@\u001b[0m \u001b[0mmcov_inv\u001b[0m\u001b[1;33m)\u001b[0m \u001b[1;33m@\u001b[0m \u001b[1;33m(\u001b[0m\u001b[0mm_coluna\u001b[0m\u001b[1;33m)\u001b[0m \u001b[1;33m-\u001b[0m \u001b[1;36m2\u001b[0m\u001b[1;33m*\u001b[0m\u001b[0mlog_prob\u001b[0m\u001b[1;33m\u001b[0m\u001b[1;33m\u001b[0m\u001b[0m\n\u001b[0m\u001b[0;32m     73\u001b[0m         \u001b[1;32mreturn\u001b[0m \u001b[0mresultado\u001b[0m\u001b[1;33m[\u001b[0m\u001b[1;36m0\u001b[0m\u001b[1;33m]\u001b[0m\u001b[1;33m[\u001b[0m\u001b[1;36m0\u001b[0m\u001b[1;33m]\u001b[0m\u001b[1;33m\u001b[0m\u001b[1;33m\u001b[0m\u001b[0m\n\u001b[0;32m     74\u001b[0m \u001b[1;33m\u001b[0m\u001b[0m\n",
      "\u001b[1;32mC:\\Python38\\lib\\site-packages\\pandas\\core\\frame.py\u001b[0m in \u001b[0;36m__rmatmul__\u001b[1;34m(self, other)\u001b[0m\n\u001b[0;32m   1222\u001b[0m         \u001b[0mMatrix\u001b[0m \u001b[0mmultiplication\u001b[0m \u001b[0musing\u001b[0m \u001b[0mbinary\u001b[0m\u001b[0;31m \u001b[0m\u001b[0;31m`\u001b[0m\u001b[1;33m@\u001b[0m\u001b[0;31m`\u001b[0m \u001b[0moperator\u001b[0m \u001b[1;32min\u001b[0m \u001b[0mPython\u001b[0m\u001b[1;33m>=\u001b[0m\u001b[1;36m3.5\u001b[0m\u001b[1;33m.\u001b[0m\u001b[1;33m\u001b[0m\u001b[1;33m\u001b[0m\u001b[0m\n\u001b[0;32m   1223\u001b[0m         \"\"\"\n\u001b[1;32m-> 1224\u001b[1;33m         \u001b[1;32mreturn\u001b[0m \u001b[0mself\u001b[0m\u001b[1;33m.\u001b[0m\u001b[0mT\u001b[0m\u001b[1;33m.\u001b[0m\u001b[0mdot\u001b[0m\u001b[1;33m(\u001b[0m\u001b[0mnp\u001b[0m\u001b[1;33m.\u001b[0m\u001b[0mtranspose\u001b[0m\u001b[1;33m(\u001b[0m\u001b[0mother\u001b[0m\u001b[1;33m)\u001b[0m\u001b[1;33m)\u001b[0m\u001b[1;33m.\u001b[0m\u001b[0mT\u001b[0m\u001b[1;33m\u001b[0m\u001b[1;33m\u001b[0m\u001b[0m\n\u001b[0m\u001b[0;32m   1225\u001b[0m \u001b[1;33m\u001b[0m\u001b[0m\n\u001b[0;32m   1226\u001b[0m     \u001b[1;31m# ----------------------------------------------------------------------\u001b[0m\u001b[1;33m\u001b[0m\u001b[1;33m\u001b[0m\u001b[1;33m\u001b[0m\u001b[0m\n",
      "\u001b[1;32mC:\\Python38\\lib\\site-packages\\pandas\\core\\frame.py\u001b[0m in \u001b[0;36mdot\u001b[1;34m(self, other)\u001b[0m\n\u001b[0;32m   1193\u001b[0m             \u001b[0mrvals\u001b[0m \u001b[1;33m=\u001b[0m \u001b[0mnp\u001b[0m\u001b[1;33m.\u001b[0m\u001b[0masarray\u001b[0m\u001b[1;33m(\u001b[0m\u001b[0mother\u001b[0m\u001b[1;33m)\u001b[0m\u001b[1;33m\u001b[0m\u001b[1;33m\u001b[0m\u001b[0m\n\u001b[0;32m   1194\u001b[0m             \u001b[1;32mif\u001b[0m \u001b[0mlvals\u001b[0m\u001b[1;33m.\u001b[0m\u001b[0mshape\u001b[0m\u001b[1;33m[\u001b[0m\u001b[1;36m1\u001b[0m\u001b[1;33m]\u001b[0m \u001b[1;33m!=\u001b[0m \u001b[0mrvals\u001b[0m\u001b[1;33m.\u001b[0m\u001b[0mshape\u001b[0m\u001b[1;33m[\u001b[0m\u001b[1;36m0\u001b[0m\u001b[1;33m]\u001b[0m\u001b[1;33m:\u001b[0m\u001b[1;33m\u001b[0m\u001b[1;33m\u001b[0m\u001b[0m\n\u001b[1;32m-> 1195\u001b[1;33m                 raise ValueError(\n\u001b[0m\u001b[0;32m   1196\u001b[0m                     \u001b[1;34mf\"Dot product shape mismatch, {lvals.shape} vs {rvals.shape}\"\u001b[0m\u001b[1;33m\u001b[0m\u001b[1;33m\u001b[0m\u001b[0m\n\u001b[0;32m   1197\u001b[0m                 )\n",
      "\u001b[1;31mValueError\u001b[0m: Dot product shape mismatch, (34, 34) vs (35, 34)"
     ]
    }
   ],
   "source": [
    "X,y = fp.kfold_shuffle()\n",
    "nayves_bayes(X,y)"
   ]
  },
  {
   "cell_type": "code",
   "execution_count": 13,
   "metadata": {},
   "outputs": [],
   "source": [
    "# nayves_bayes_accs = []\n",
    "# for _ in range(50):\n",
    "#     X,y = fi.kfold_shuffle(derma_dados,5)\n",
    "#     nayves_bayes_accs.append(nayves_bayes(X,y))\n",
    "# print('Acurácia média de ',round(np.mean(nayves_bayes_accs),4)*100,'%')"
   ]
  }
 ],
 "metadata": {
  "kernelspec": {
   "display_name": "Python 3.8.3 32-bit",
   "language": "python",
   "name": "python38332bitaad349581efd4fb382cf55e46195d2e4"
  },
  "language_info": {
   "codemirror_mode": {
    "name": "ipython",
    "version": 3
   },
   "file_extension": ".py",
   "mimetype": "text/x-python",
   "name": "python",
   "nbconvert_exporter": "python",
   "pygments_lexer": "ipython3",
   "version": "3.8.3"
  }
 },
 "nbformat": 4,
 "nbformat_minor": 4
}
